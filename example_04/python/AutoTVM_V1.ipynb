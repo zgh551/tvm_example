{
 "cells": [
  {
   "cell_type": "code",
   "execution_count": 1,
   "id": "09b1ab3a",
   "metadata": {},
   "outputs": [],
   "source": [
    "import onnx\n",
    "import glob\n",
    "import os\n",
    "import numpy as np\n",
    "import time\n",
    "\n",
    "import tvm\n",
    "from tvm.auto_scheduler.utils import request_remote\n",
    "from tvm.contrib import utils, ndk\n",
    "from tvm import relay, autotvm\n",
    "from tvm.autotvm.tuner import XGBTuner, GATuner, RandomTuner, GridSearchTuner\n",
    "import tvm.contrib.graph_executor as runtime"
   ]
  },
  {
   "cell_type": "code",
   "execution_count": 2,
   "id": "a132d9ce",
   "metadata": {},
   "outputs": [
    {
     "name": "stdout",
     "output_type": "stream",
     "text": [
      "device: rasp\n",
      "rpc_host: 192.168.0.109:9190\n"
     ]
    }
   ],
   "source": [
    "# Also replace this with the device key in your tracker\n",
    "device_key = \"rasp\"\n",
    "if device_key == \"v9h\":\n",
    "    rpc_host = \"192.168.105.70\"\n",
    "elif device_key == \"rasp\":\n",
    "    rpc_host = \"192.168.0.109\"\n",
    "rpc_port = 9190\n",
    "print(\"device:\", device_key)\n",
    "print(\"rpc_host: %s:%s\" % (rpc_host, rpc_port))"
   ]
  },
  {
   "cell_type": "code",
   "execution_count": 3,
   "id": "919250ec",
   "metadata": {},
   "outputs": [],
   "source": [
    "# Define the neural network and compilation target.\n",
    "\n",
    "# network = \"mobilenet\"\n",
    "network = \"mnist\"\n",
    "batch_size = 1\n",
    "layout = \"NCHW\"\n",
    "dtype = \"float32\"\n",
    "# device_type = \"armv7\"\n",
    "# device_type = \"aarch64\"\n",
    "device_type = \"opencl\""
   ]
  },
  {
   "cell_type": "code",
   "execution_count": 4,
   "id": "14246ca0",
   "metadata": {},
   "outputs": [],
   "source": [
    "turn_trials = 200\n",
    "turn_enable = True\n",
    "preload_log_file = False\n",
    "# Set this to True if you use ndk tools for cross compiling\n",
    "use_ndk = False\n",
    "# Path to cross compiler\n",
    "# os.environ[\"TVM_NDK_CC\"] = \"/usr/bin/aarch64-linux-gnu-g++\""
   ]
  },
  {
   "cell_type": "code",
   "execution_count": 5,
   "id": "7717cf11",
   "metadata": {},
   "outputs": [
    {
     "name": "stdout",
     "output_type": "stream",
     "text": [
      "shape_dict:  {'Input3': (1, 1, 28, 28)}\n"
     ]
    }
   ],
   "source": [
    "if network == \"mobilenet\":\n",
    "    tune_model = onnx.load('../mobilenet/mobilenetv2-7.onnx')\n",
    "    input_name = \"input\"\n",
    "    input_shape = (batch_size, 3, 244, 244)\n",
    "    shape_dict = {input_name: input_shape}\n",
    "    print(\"shape_dict: \", shape_dict)\n",
    "elif network == \"mnist\":\n",
    "    tune_model = onnx.load('../mnist/mnist-8.onnx')\n",
    "    input_name = \"Input3\"\n",
    "    input_shape = (batch_size, 1, 28, 28)\n",
    "    shape_dict = {input_name: input_shape}\n",
    "    print(\"shape_dict: \", shape_dict)"
   ]
  },
  {
   "cell_type": "code",
   "execution_count": 6,
   "id": "21145b17",
   "metadata": {},
   "outputs": [],
   "source": [
    "model, params = relay.frontend.from_onnx(tune_model, shape_dict)"
   ]
  },
  {
   "cell_type": "code",
   "execution_count": 7,
   "id": "fce9ea4f",
   "metadata": {},
   "outputs": [
    {
     "name": "stdout",
     "output_type": "stream",
     "text": [
      "log file: rasp-mnist-NCHW-B1-opencl-C200-T21-08-17-14-13.log\n"
     ]
    }
   ],
   "source": [
    "if device_type == \"armv7\":\n",
    "    target = tvm.target.Target(\"llvm -mtriple=armv7l-linux-gnueabihf\")\n",
    "elif device_type == \"aarch64\":\n",
    "    target = tvm.target.Target(\"llvm -mtriple=aarch64-linux-gnu -mattr=+neon\")\n",
    "elif device_type == \"opencl\":\n",
    "#     target = tvm.target.Target(\"opencl\", host=\"llvm -mtriple=aarch64-linux-gnu\")\n",
    "    target = tvm.target.Target(\"opencl -device=powervr -model=v9h\", host=\"llvm -mtriple=aarch64-linux-gnu\")\n",
    "\n",
    "log_file = \"%s-%s-%s-B%d-%s-C%s-T%s.log\" % (device_key, network, layout, batch_size, target.kind.name, turn_trials, time.strftime('%y-%m-%d-%H-%M',time.localtime(time.time())))\n",
    "print(\"log file:\", log_file)"
   ]
  },
  {
   "cell_type": "code",
   "execution_count": 8,
   "id": "de77f45d",
   "metadata": {},
   "outputs": [],
   "source": [
    "if layout == 'NHWC':\n",
    "    # convert from NCHW to NHWC\n",
    "    desired_layouts = {'nn.conv2d': ['NHWC', 'default']}\n",
    "\n",
    "    # Convert the layout to NHWC\n",
    "    # RemoveUnunsedFunctions is used to clean up the graph.\n",
    "    seq = tvm.transform.Sequential([relay.transform.RemoveUnusedFunctions(),\n",
    "                                    relay.transform.ConvertLayout(desired_layouts)])\n",
    "\n",
    "    with tvm.transform.PassContext(opt_level=3):\n",
    "        model = seq(model)"
   ]
  },
  {
   "cell_type": "code",
   "execution_count": 9,
   "id": "9794d346",
   "metadata": {},
   "outputs": [],
   "source": [
    "# tuning_option = {\n",
    "#     \"log_filename\": log_file,\n",
    "#     \"tuner\": \"xgb\",\n",
    "#     \"n_trial\": turn_trials,\n",
    "#     \"early_stopping\": 800,\n",
    "#     \"measure_option\": autotvm.measure_option(\n",
    "#         builder=autotvm.LocalBuilder(build_func=\"ndk\" if use_android else \"default\"),\n",
    "#         runner=autotvm.RPCRunner(\n",
    "#             key=device_key,\n",
    "#             host=rpc_host,\n",
    "#             port=rpc_port,\n",
    "#             number=5,\n",
    "#             timeout=10,\n",
    "#             min_repeat_ms = 200,\n",
    "#             enable_cpu_cache_flush=True\n",
    "#         ),\n",
    "#     ),\n",
    "# }\n",
    "use_transfer_learning = True\n",
    "log_filename = log_file\n",
    "tuner = \"xgb\"\n",
    "n_trial = turn_trials\n",
    "early_stopping = 800\n",
    "measure_option = autotvm.measure_option(\n",
    "                    builder=autotvm.LocalBuilder(build_func=\"ndk\" if use_ndk else \"default\"),\n",
    "                    runner=autotvm.RPCRunner(\n",
    "                        key=device_key,\n",
    "                        host=rpc_host,\n",
    "                        port=rpc_port,\n",
    "                        number=5,\n",
    "                        timeout=10,\n",
    "                        min_repeat_ms = 200,\n",
    "                        enable_cpu_cache_flush=True)\n",
    "                )"
   ]
  },
  {
   "cell_type": "code",
   "execution_count": 10,
   "id": "35b32c52",
   "metadata": {},
   "outputs": [
    {
     "name": "stdout",
     "output_type": "stream",
     "text": [
      "Extract tasks...\n",
      "========== Task 0  (function name: conv2d_nchw_spatial_pack.powervr) ==========\n",
      "(('TENSOR', (1, 8, 18, 18), 'float32'), ('TENSOR', (16, 8, 5, 5), 'float32'), (1, 1), (0, 0, 0, 0), (1, 1), 'float32')\n",
      "========== Task 1  (function name: conv2d_nchw_spatial_pack.powervr) ==========\n",
      "(('TENSOR', (1, 1, 32, 32), 'float32'), ('TENSOR', (8, 1, 5, 5), 'float32'), (1, 1), (0, 0, 0, 0), (1, 1), 'float32')\n"
     ]
    }
   ],
   "source": [
    "# extract workloads from relay program\n",
    "print(\"Extract tasks...\")\n",
    "tasks = autotvm.task.extract_from_program(\n",
    "    model[\"main\"], target=target, params=params, ops=(relay.op.get(\"nn.conv2d\"),)\n",
    ")\n",
    "\n",
    "for idx, task in enumerate(tasks):\n",
    "    print(\"========== Task %d  (function name: %s) ==========\" % (idx, task.name))\n",
    "    print(task.args)"
   ]
  },
  {
   "cell_type": "code",
   "execution_count": 11,
   "id": "61d390a3",
   "metadata": {},
   "outputs": [],
   "source": [
    "# create tmp log file\n",
    "tmp_log_file = log_filename + \".tmp\"\n",
    "if os.path.exists(tmp_log_file):\n",
    "    os.remove(tmp_log_file)"
   ]
  },
  {
   "cell_type": "code",
   "execution_count": 12,
   "id": "6bf86223",
   "metadata": {},
   "outputs": [
    {
     "name": "stdout",
     "output_type": "stream",
     "text": [
      "Tuning...\n",
      "[Task  1/ 2]  Current/Best:    0.00/   0.00 GFLOPS | Progress: (0/200) | 0.00 s"
     ]
    },
    {
     "ename": "RuntimeError",
     "evalue": "Cannot get remote devices from the tracker. Please check the status of tracker by 'python -m tvm.exec.query_rpc_tracker --port [THE PORT YOU USE]' and make sure you have free devices on the queue status.",
     "output_type": "error",
     "traceback": [
      "\u001b[0;31m---------------------------------------------------------------------------\u001b[0m",
      "\u001b[0;31mRuntimeError\u001b[0m                              Traceback (most recent call last)",
      "\u001b[0;32m/tmp/ipykernel_1368555/3020306620.py\u001b[0m in \u001b[0;36m<module>\u001b[0;34m\u001b[0m\n\u001b[1;32m     27\u001b[0m     \u001b[0;31m# process tuning\u001b[0m\u001b[0;34m\u001b[0m\u001b[0;34m\u001b[0m\u001b[0;34m\u001b[0m\u001b[0m\n\u001b[1;32m     28\u001b[0m     \u001b[0mtsk_trial\u001b[0m \u001b[0;34m=\u001b[0m \u001b[0mmin\u001b[0m\u001b[0;34m(\u001b[0m\u001b[0mn_trial\u001b[0m\u001b[0;34m,\u001b[0m \u001b[0mlen\u001b[0m\u001b[0;34m(\u001b[0m\u001b[0mtsk\u001b[0m\u001b[0;34m.\u001b[0m\u001b[0mconfig_space\u001b[0m\u001b[0;34m)\u001b[0m\u001b[0;34m)\u001b[0m\u001b[0;34m\u001b[0m\u001b[0;34m\u001b[0m\u001b[0m\n\u001b[0;32m---> 29\u001b[0;31m     tuner_obj.tune(\n\u001b[0m\u001b[1;32m     30\u001b[0m         \u001b[0mn_trial\u001b[0m\u001b[0;34m=\u001b[0m\u001b[0mtsk_trial\u001b[0m\u001b[0;34m,\u001b[0m\u001b[0;34m\u001b[0m\u001b[0;34m\u001b[0m\u001b[0m\n\u001b[1;32m     31\u001b[0m         \u001b[0mearly_stopping\u001b[0m\u001b[0;34m=\u001b[0m\u001b[0mearly_stopping\u001b[0m\u001b[0;34m,\u001b[0m\u001b[0;34m\u001b[0m\u001b[0;34m\u001b[0m\u001b[0m\n",
      "\u001b[0;32m~/Workspace/github/tvm/python/tvm/autotvm/tuner/xgboost_tuner.py\u001b[0m in \u001b[0;36mtune\u001b[0;34m(self, *args, **kwargs)\u001b[0m\n\u001b[1;32m    101\u001b[0m \u001b[0;34m\u001b[0m\u001b[0m\n\u001b[1;32m    102\u001b[0m     \u001b[0;32mdef\u001b[0m \u001b[0mtune\u001b[0m\u001b[0;34m(\u001b[0m\u001b[0mself\u001b[0m\u001b[0;34m,\u001b[0m \u001b[0;34m*\u001b[0m\u001b[0margs\u001b[0m\u001b[0;34m,\u001b[0m \u001b[0;34m**\u001b[0m\u001b[0mkwargs\u001b[0m\u001b[0;34m)\u001b[0m\u001b[0;34m:\u001b[0m  \u001b[0;31m# pylint: disable=arguments-differ\u001b[0m\u001b[0;34m\u001b[0m\u001b[0;34m\u001b[0m\u001b[0m\n\u001b[0;32m--> 103\u001b[0;31m         \u001b[0msuper\u001b[0m\u001b[0;34m(\u001b[0m\u001b[0mXGBTuner\u001b[0m\u001b[0;34m,\u001b[0m \u001b[0mself\u001b[0m\u001b[0;34m)\u001b[0m\u001b[0;34m.\u001b[0m\u001b[0mtune\u001b[0m\u001b[0;34m(\u001b[0m\u001b[0;34m*\u001b[0m\u001b[0margs\u001b[0m\u001b[0;34m,\u001b[0m \u001b[0;34m**\u001b[0m\u001b[0mkwargs\u001b[0m\u001b[0;34m)\u001b[0m\u001b[0;34m\u001b[0m\u001b[0;34m\u001b[0m\u001b[0m\n\u001b[0m\u001b[1;32m    104\u001b[0m \u001b[0;34m\u001b[0m\u001b[0m\n\u001b[1;32m    105\u001b[0m         \u001b[0;31m# manually close pool to avoid multiprocessing issues\u001b[0m\u001b[0;34m\u001b[0m\u001b[0;34m\u001b[0m\u001b[0;34m\u001b[0m\u001b[0m\n",
      "\u001b[0;32m~/Workspace/github/tvm/python/tvm/autotvm/tuner/tuner.py\u001b[0m in \u001b[0;36mtune\u001b[0;34m(self, n_trial, measure_option, early_stopping, callbacks, si_prefix)\u001b[0m\n\u001b[1;32m    110\u001b[0m             \u001b[0mOne\u001b[0m \u001b[0mof\u001b[0m \u001b[0mtvm\u001b[0m\u001b[0;34m.\u001b[0m\u001b[0mautotvm\u001b[0m\u001b[0;34m.\u001b[0m\u001b[0mutils\u001b[0m\u001b[0;34m.\u001b[0m\u001b[0mSI_PREFIXES\u001b[0m\u001b[0;34m.\u001b[0m \u001b[0mThe\u001b[0m \u001b[0mSI\u001b[0m \u001b[0mprefix\u001b[0m \u001b[0mto\u001b[0m \u001b[0muse\u001b[0m \u001b[0mwhen\u001b[0m \u001b[0mreporting\u001b[0m \u001b[0mFLOPS\u001b[0m\u001b[0;34m.\u001b[0m\u001b[0;34m\u001b[0m\u001b[0;34m\u001b[0m\u001b[0m\n\u001b[1;32m    111\u001b[0m         \"\"\"\n\u001b[0;32m--> 112\u001b[0;31m         \u001b[0mmeasure_batch\u001b[0m \u001b[0;34m=\u001b[0m \u001b[0mcreate_measure_batch\u001b[0m\u001b[0;34m(\u001b[0m\u001b[0mself\u001b[0m\u001b[0;34m.\u001b[0m\u001b[0mtask\u001b[0m\u001b[0;34m,\u001b[0m \u001b[0mmeasure_option\u001b[0m\u001b[0;34m)\u001b[0m\u001b[0;34m\u001b[0m\u001b[0;34m\u001b[0m\u001b[0m\n\u001b[0m\u001b[1;32m    113\u001b[0m         \u001b[0mn_parallel\u001b[0m \u001b[0;34m=\u001b[0m \u001b[0mgetattr\u001b[0m\u001b[0;34m(\u001b[0m\u001b[0mmeasure_batch\u001b[0m\u001b[0;34m,\u001b[0m \u001b[0;34m\"n_parallel\"\u001b[0m\u001b[0;34m,\u001b[0m \u001b[0;36m1\u001b[0m\u001b[0;34m)\u001b[0m\u001b[0;34m\u001b[0m\u001b[0;34m\u001b[0m\u001b[0m\n\u001b[1;32m    114\u001b[0m         \u001b[0mearly_stopping\u001b[0m \u001b[0;34m=\u001b[0m \u001b[0mearly_stopping\u001b[0m \u001b[0;32mor\u001b[0m \u001b[0;36m1e9\u001b[0m\u001b[0;34m\u001b[0m\u001b[0;34m\u001b[0m\u001b[0m\n",
      "\u001b[0;32m~/Workspace/github/tvm/python/tvm/autotvm/measure/measure.py\u001b[0m in \u001b[0;36mcreate_measure_batch\u001b[0;34m(task, option)\u001b[0m\n\u001b[1;32m    255\u001b[0m     \u001b[0mrunner\u001b[0m \u001b[0;34m=\u001b[0m \u001b[0moption\u001b[0m\u001b[0;34m[\u001b[0m\u001b[0;34m\"runner\"\u001b[0m\u001b[0;34m]\u001b[0m\u001b[0;34m\u001b[0m\u001b[0;34m\u001b[0m\u001b[0m\n\u001b[1;32m    256\u001b[0m \u001b[0;34m\u001b[0m\u001b[0m\n\u001b[0;32m--> 257\u001b[0;31m     \u001b[0mattach_objects\u001b[0m \u001b[0;34m=\u001b[0m \u001b[0mrunner\u001b[0m\u001b[0;34m.\u001b[0m\u001b[0mset_task\u001b[0m\u001b[0;34m(\u001b[0m\u001b[0mtask\u001b[0m\u001b[0;34m)\u001b[0m\u001b[0;34m\u001b[0m\u001b[0;34m\u001b[0m\u001b[0m\n\u001b[0m\u001b[1;32m    258\u001b[0m \u001b[0;34m\u001b[0m\u001b[0m\n\u001b[1;32m    259\u001b[0m     \u001b[0;31m# feed device related information from runner to builder\u001b[0m\u001b[0;34m\u001b[0m\u001b[0;34m\u001b[0m\u001b[0;34m\u001b[0m\u001b[0m\n",
      "\u001b[0;32m~/Workspace/github/tvm/python/tvm/autotvm/measure/measure_methods.py\u001b[0m in \u001b[0;36mset_task\u001b[0;34m(self, task)\u001b[0m\n\u001b[1;32m    249\u001b[0m             \u001b[0mlogger\u001b[0m\u001b[0;34m.\u001b[0m\u001b[0minfo\u001b[0m\u001b[0;34m(\u001b[0m\u001b[0;34m\"Get devices for measurement successfully!\"\u001b[0m\u001b[0;34m)\u001b[0m\u001b[0;34m\u001b[0m\u001b[0;34m\u001b[0m\u001b[0m\n\u001b[1;32m    250\u001b[0m         \u001b[0;32melse\u001b[0m\u001b[0;34m:\u001b[0m\u001b[0;34m\u001b[0m\u001b[0;34m\u001b[0m\u001b[0m\n\u001b[0;32m--> 251\u001b[0;31m             raise RuntimeError(\n\u001b[0m\u001b[1;32m    252\u001b[0m                 \u001b[0;34m\"Cannot get remote devices from the tracker. \"\u001b[0m\u001b[0;34m\u001b[0m\u001b[0;34m\u001b[0m\u001b[0m\n\u001b[1;32m    253\u001b[0m                 \u001b[0;34m\"Please check the status of tracker by \"\u001b[0m\u001b[0;34m\u001b[0m\u001b[0;34m\u001b[0m\u001b[0m\n",
      "\u001b[0;31mRuntimeError\u001b[0m: Cannot get remote devices from the tracker. Please check the status of tracker by 'python -m tvm.exec.query_rpc_tracker --port [THE PORT YOU USE]' and make sure you have free devices on the queue status."
     ]
    }
   ],
   "source": [
    "# run tuning tasks\n",
    "print(\"Tuning...\")\n",
    "for i, tsk in enumerate(reversed(tasks)):\n",
    "    prefix = \"[Task %2d/%2d] \" % (i + 1, len(tasks))\n",
    "    # create tuner\n",
    "    if tuner == \"xgb\" or tuner == \"xgb-rank\":\n",
    "        tuner_obj = XGBTuner(tsk, loss_type=\"rank\")\n",
    "    elif tuner == \"xgb_knob\":\n",
    "        tuner_obj = XGBTuner(tsk, loss_type=\"rank\", feature_type=\"knob\")\n",
    "    elif tuner == \"xgb_itervar\":\n",
    "        tuner_obj = XGBTuner(tsk, loss_type=\"rank\", feature_type=\"itervar\")\n",
    "    elif tuner == \"xgb_curve\":\n",
    "        tuner_obj = XGBTuner(tsk, loss_type=\"rank\", feature_type=\"curve\")\n",
    "    elif tuner == \"ga\":\n",
    "        tuner_obj = GATuner(tsk, pop_size=50)\n",
    "    elif tuner == \"random\":\n",
    "        tuner_obj = RandomTuner(tsk)\n",
    "    elif tuner == \"gridsearch\":\n",
    "        tuner_obj = GridSearchTuner(tsk)\n",
    "    else:\n",
    "        raise ValueError(\"Invalid tuner: \" + tuner)\n",
    "    \n",
    "    if use_transfer_learning:\n",
    "        if os.path.isfile(tmp_log_file):\n",
    "            tuner_obj.load_history(autotvm.record.load_from_file(tmp_log_file))\n",
    "\n",
    "    # process tuning\n",
    "    tsk_trial = min(n_trial, len(tsk.config_space))\n",
    "    tuner_obj.tune(\n",
    "        n_trial=tsk_trial,\n",
    "        early_stopping=early_stopping,\n",
    "        measure_option=measure_option,\n",
    "        callbacks=[\n",
    "            autotvm.callback.progress_bar(tsk_trial, prefix=prefix),\n",
    "            autotvm.callback.log_to_file(tmp_log_file),\n",
    "        ],\n",
    "    )"
   ]
  },
  {
   "cell_type": "code",
   "execution_count": null,
   "id": "a8ef19ce",
   "metadata": {},
   "outputs": [],
   "source": [
    "# pick best records to a cache file\n",
    "autotvm.record.pick_best(tmp_log_file, log_filename)\n",
    "os.remove(tmp_log_file)"
   ]
  },
  {
   "cell_type": "code",
   "execution_count": null,
   "id": "fb7e7519",
   "metadata": {},
   "outputs": [],
   "source": [
    "# compile kernels with history best records\n",
    "with autotvm.apply_history_best(log_file):\n",
    "    print(\"Compile...\")\n",
    "    with tvm.transform.PassContext(opt_level=3):\n",
    "        lib = relay.build_module.build(model, target=target, params=params)"
   ]
  },
  {
   "cell_type": "code",
   "execution_count": null,
   "id": "0884cd74",
   "metadata": {},
   "outputs": [],
   "source": [
    "#  export library\n",
    "temp = utils.tempdir()\n",
    "filename = device_type + \"_deploy_lib.tar\"\n",
    "path_lib = temp.relpath(filename)\n",
    "lib.export_library(path_lib)\n",
    "# lib.export_library(path_lib, ndk.create_shared)"
   ]
  },
  {
   "cell_type": "code",
   "execution_count": null,
   "id": "3a5b4613",
   "metadata": {},
   "outputs": [],
   "source": [
    "print(\"=============== Request Remote ===============\")\n",
    "remote = request_remote(device_key, rpc_host, rpc_port)\n",
    "# upload module to device\n",
    "remote.upload(path_lib)\n",
    "loaded_lib = remote.load_module(filename)\n",
    "if device_type == \"armv7\":\n",
    "    dev = remote.cpu()\n",
    "elif device_type == \"aarch64\":\n",
    "    dev = remote.cpu()\n",
    "elif device_type == \"opencl\":\n",
    "    dev = remote.cl()"
   ]
  },
  {
   "cell_type": "code",
   "execution_count": null,
   "id": "1f811024",
   "metadata": {},
   "outputs": [],
   "source": [
    "# Create graph executor\n",
    "module = runtime.GraphModule(loaded_lib[\"default\"](dev))\n",
    "# module = graph_executor.GraphModule(loaded_lib[\"default\"](dev))\n",
    "module.set_input(input_name, tvm.nd.array((np.random.uniform(size=input_shape)).astype(dtype)))"
   ]
  },
  {
   "cell_type": "code",
   "execution_count": null,
   "id": "5202d9f9",
   "metadata": {},
   "outputs": [],
   "source": [
    "# Evaluate\n",
    "print(\"Evaluate inference time cost...\")\n",
    "ftimer = module.module.time_evaluator(\"run\", dev, repeat=3, min_repeat_ms=50)"
   ]
  },
  {
   "cell_type": "code",
   "execution_count": null,
   "id": "d7fe5923",
   "metadata": {},
   "outputs": [
    {
     "name": "stderr",
     "output_type": "stream",
     "text": [
      "Exception in thread Thread-11:\n",
      "Traceback (most recent call last):\n",
      "  File \"/usr/lib/python3.8/threading.py\", line 932, in _bootstrap_inner\n",
      "    self.run()\n",
      "  File \"/usr/lib/python3.8/threading.py\", line 870, in run\n",
      "    self._target(*self._args, **self._kwargs)\n",
      "  File \"/home/zgh/Workspace/github/tvm/python/tvm/autotvm/measure/measure_methods.py\", line 712, in _check\n",
      "    while not dev.exist:  # wait until we get an available device\n",
      "  File \"/home/zgh/Workspace/github/tvm/python/tvm/_ffi/runtime_ctypes.py\", line 226, in exist\n",
      "    return self._GetDeviceAttr(self.device_type, self.device_id, 0) != 0\n",
      "  File \"/home/zgh/Workspace/github/tvm/python/tvm/_ffi/runtime_ctypes.py\", line 210, in _GetDeviceAttr\n",
      "    return tvm.runtime._ffi_api.GetDeviceAttr(device_type, device_id, attr_id)\n",
      "  File \"tvm/_ffi/_cython/./packed_func.pxi\", line 323, in tvm._ffi._cy3.core.PackedFuncBase.__call__\n",
      "  File \"tvm/_ffi/_cython/./packed_func.pxi\", line 257, in tvm._ffi._cy3.core.FuncCall\n",
      "  File \"tvm/_ffi/_cython/./packed_func.pxi\", line 246, in tvm._ffi._cy3.core.FuncCall3\n",
      "  File \"tvm/_ffi/_cython/./base.pxi\", line 163, in tvm._ffi._cy3.core.CALL\n",
      "tvm._ffi.base.TVMError: Traceback (most recent call last):\n",
      "  4: TVMFuncCall\n",
      "  3: _ZNSt17_Function_handlerIFvN3tvm7runtime7TVMArgsEPNS1_11TVMRetValueEEUlS2_S4_E0_E9_M_invokeERKSt9_Any_dataOS2_OS4_\n",
      "  2: tvm::runtime::RPCDeviceAPI::GetAttr(DLDevice, tvm::runtime::DeviceAttrKind, tvm::runtime::TVMRetValue*)\n",
      "  1: non-virtual thunk to tvm::runtime::RPCClientSession::GetAttr(DLDevice, tvm::runtime::DeviceAttrKind, tvm::runtime::TVMRetValue*)\n",
      "  0: std::_Function_handler<void (tvm::runtime::TVMArgs, tvm::runtime::TVMRetValue*), tvm::runtime::RPCEndpoint::Init()::{lambda(tvm::runtime::TVMArgs, tvm::runtime::TVMRetValue*)#2}>::_M_invoke(std::_Any_data const&, tvm::runtime::TVMArgs&&, tvm::runtime::TVMRetValue*&&)\n",
      "  File \"/home/zgh/Workspace/github/tvm/src/runtime/rpc/rpc_endpoint.cc\", line 681\n",
      "TVMError: \n",
      "---------------------------------------------------------------\n",
      "An error occurred during the execution of TVM.\n",
      "For more information, please see: https://tvm.apache.org/docs/errors.html\n",
      "---------------------------------------------------------------\n",
      "  Check failed: (code == RPCCode::kReturn) is false: code=1\n"
     ]
    }
   ],
   "source": [
    "prof_res = np.array(ftimer().results) * 1e3  # convert to millisecond\n",
    "print(\"Mean inference time (std dev): %.2f ms (%.2f ms)\" % (np.mean(prof_res), np.std(prof_res)))"
   ]
  },
  {
   "cell_type": "code",
   "execution_count": null,
   "id": "ddf32817",
   "metadata": {},
   "outputs": [],
   "source": []
  }
 ],
 "metadata": {
  "kernelspec": {
   "display_name": "Python 3 (ipykernel)",
   "language": "python",
   "name": "python3"
  },
  "language_info": {
   "codemirror_mode": {
    "name": "ipython",
    "version": 3
   },
   "file_extension": ".py",
   "mimetype": "text/x-python",
   "name": "python",
   "nbconvert_exporter": "python",
   "pygments_lexer": "ipython3",
   "version": "3.8.10"
  }
 },
 "nbformat": 4,
 "nbformat_minor": 5
}
